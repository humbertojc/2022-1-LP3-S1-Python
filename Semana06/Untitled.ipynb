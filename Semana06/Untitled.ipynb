{
 "cells": [
  {
   "cell_type": "markdown",
   "id": "dc8a626c",
   "metadata": {},
   "source": [
    "# Seman 06\n",
    "Julca Espillco Humberto"
   ]
  },
  {
   "cell_type": "markdown",
   "id": "1cee1c58",
   "metadata": {},
   "source": [
    "Temas\n",
    "1. Coleccion de datos\n",
    "2. Estructuras desicivas y estructuras repetitivas\n",
    "3. Funciones\n",
    "4. Clases y objetos"
   ]
  },
  {
   "cell_type": "markdown",
   "id": "28707fae",
   "metadata": {},
   "source": [
    "2. Estructuras Desicivas y estructuras repetitivas"
   ]
  },
  {
   "cell_type": "code",
   "execution_count": 4,
   "id": "60f383e8",
   "metadata": {},
   "outputs": [],
   "source": [
    "# 2.1 Estructuras decisivas (if, elif, else)"
   ]
  },
  {
   "cell_type": "code",
   "execution_count": 5,
   "id": "d5e2ceda",
   "metadata": {},
   "outputs": [],
   "source": [
    "# if\n",
    "# problema: Dado el precio de 3 productos ingresados por el teclado, aplicar un descuento del 10% si la venta es mayor o igual\n",
    "# a 1000"
   ]
  },
  {
   "cell_type": "code",
   "execution_count": 6,
   "id": "ac022734",
   "metadata": {},
   "outputs": [
    {
     "name": "stdout",
     "output_type": "stream",
     "text": [
      "Producto 1: 250\n",
      "Producto 2: 250\n",
      "Producto 3: 600\n",
      "total a pagar es: 990.0\n"
     ]
    }
   ],
   "source": [
    "# solucion\n",
    "p1 = float(input(\"Producto 1: \"))\n",
    "p2 = float(input(\"Producto 2: \"))\n",
    "p3 = float(input(\"Producto 3: \"))\n",
    "total = p1 + p2 + p3\n",
    "if total >= 1000:\n",
    "    total*=0.9\n",
    "\n",
    "print(f\"total a pagar es: {total}\")"
   ]
  },
  {
   "cell_type": "code",
   "execution_count": 7,
   "id": "7f687985",
   "metadata": {},
   "outputs": [],
   "source": [
    "# if-else"
   ]
  },
  {
   "cell_type": "code",
   "execution_count": 8,
   "id": "c68b2977",
   "metadata": {},
   "outputs": [],
   "source": [
    "# Problema 01 (Recordando)\n",
    "# Dado una lista de [ALANYA, ALVA, AZAÑERO, CARRASCO, CCACCYA, COSME, CUSI, DIAZ, FLORES, GOMEZ, GOMEZ, GRANADOS, \n",
    "# HUANCAS, JULCA, LAURA,MOTTA,PINEDO,PONCE,QUINTANA,RODRIGUEZ,SERNA,VILCA,YAURICASA]\n",
    "# Diseñar un código que muestre si el apellido de un estudiante (Ingresado por teclado) forma parte de la lista"
   ]
  },
  {
   "cell_type": "code",
   "execution_count": 9,
   "id": "72928b73",
   "metadata": {},
   "outputs": [
    {
     "name": "stdout",
     "output_type": "stream",
     "text": [
      "Ingrese nombre a buscar: CERDAN\n",
      "No esta en la lista de LP3\n"
     ]
    }
   ],
   "source": [
    "LP3 = [\"ALANYA\", \"ALVA\", \"AZAÑERO\", \"CARRASCO\", \"CCACCYA\", \"COSME\", \"CUSI\", \"DIAZ\", \"FLORES\", \"GOMEZ\", \"GOMEZ\", \n",
    "       \"GRANADOS\", \"HUANCAS\", \"JULCA\", \"LAURA\",\"MOTTA\",\"PINEDO\",\"PONCE\",\"QUINTANA\",\"RODRIGUEZ\",\"SERNA\",\"VILCA\",\"YAURICASA\"]\n",
    "apellido = input(\"Ingrese nombre a buscar: \")\n",
    "\n",
    "# como los datos de la lista estan en mayuscula, utilizamos upper()\n",
    "\n",
    "if apellido.upper() in LP3:\n",
    "    print(\"Si esta en la lista LP3\")\n",
    "else:\n",
    "    print(\"No esta en la lista de LP3\")"
   ]
  },
  {
   "cell_type": "code",
   "execution_count": 10,
   "id": "5fb93458",
   "metadata": {},
   "outputs": [],
   "source": [
    "# Problema 02\n",
    "# Dado el importe total de ventas realizadas por un trabajador (ingresado por teclado, \n",
    "# categorizar que tipo de empleado es, considerando la siguiente tabla:\n",
    "\n",
    "# Categoria: A -> [0, 1000]\n",
    "# Categoria: B -> <1000, 2000]\n",
    "# Categoria: C -> <2000, 5000]\n",
    "# Categoría: D -> <5000, Mas]\n",
    "\n",
    "# Tiempo asignado: 12 minutos"
   ]
  },
  {
   "cell_type": "code",
   "execution_count": null,
   "id": "d7a2b91c",
   "metadata": {},
   "outputs": [],
   "source": []
  },
  {
   "cell_type": "code",
   "execution_count": 11,
   "id": "dd9c15c3",
   "metadata": {},
   "outputs": [],
   "source": [
    "# elif\n",
    "# Problema 03\n",
    "# Dado el importe total de ventas realizadas por un trabajador (ingresado por teclado, \n",
    "# categorizar que tipo de empleado es, considerando la siguiente tabla:\n",
    "\n",
    "# Categoria: A -> [0, 1000]\n",
    "# Categoria: B -> <1000, 2000]\n",
    "# Categoria: C -> <2000, 5000]\n",
    "# Categoría: D -> <5000, Mas]\n",
    "\n",
    "# Tiempo asignado: 12 minutos"
   ]
  },
  {
   "cell_type": "code",
   "execution_count": null,
   "id": "8e4595b2",
   "metadata": {},
   "outputs": [],
   "source": []
  },
  {
   "cell_type": "code",
   "execution_count": 19,
   "id": "5b3422a0",
   "metadata": {},
   "outputs": [],
   "source": [
    "# Estructuras repetitivas"
   ]
  },
  {
   "cell_type": "code",
   "execution_count": 20,
   "id": "cd5f3efe",
   "metadata": {},
   "outputs": [],
   "source": [
    "# for"
   ]
  },
  {
   "cell_type": "code",
   "execution_count": 21,
   "id": "6af6e171",
   "metadata": {},
   "outputs": [],
   "source": [
    "# Problema 01:\n",
    "# Mostrar los elementos de una lista utilizando for"
   ]
  },
  {
   "cell_type": "code",
   "execution_count": 23,
   "id": "d47ada1d",
   "metadata": {},
   "outputs": [
    {
     "name": "stdout",
     "output_type": "stream",
     "text": [
      "Yauricasa\n",
      "Granados\n",
      "Alva\n",
      "Laura\n"
     ]
    }
   ],
   "source": [
    "# solucion\n",
    "aula = ['Yauricasa', 'Granados', 'Alva', 'Laura']\n",
    "#por cada alumno que esta en la lista, imprimir alumno\n",
    "\n",
    "for alumno in aula:\n",
    "    print (alumno)"
   ]
  },
  {
   "cell_type": "code",
   "execution_count": null,
   "id": "16664372",
   "metadata": {},
   "outputs": [],
   "source": [
    "# Problema 02\n",
    "# Dado una cadena ingresado por teclado, mostrar cada caracter de la cadena, utilizando la estructura for"
   ]
  },
  {
   "cell_type": "code",
   "execution_count": null,
   "id": "a9302c7d",
   "metadata": {},
   "outputs": [],
   "source": []
  }
 ],
 "metadata": {
  "kernelspec": {
   "display_name": "Python 3 (ipykernel)",
   "language": "python",
   "name": "python3"
  },
  "language_info": {
   "codemirror_mode": {
    "name": "ipython",
    "version": 3
   },
   "file_extension": ".py",
   "mimetype": "text/x-python",
   "name": "python",
   "nbconvert_exporter": "python",
   "pygments_lexer": "ipython3",
   "version": "3.9.7"
  }
 },
 "nbformat": 4,
 "nbformat_minor": 5
}
