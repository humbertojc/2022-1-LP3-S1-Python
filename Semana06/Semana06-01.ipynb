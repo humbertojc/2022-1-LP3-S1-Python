{
 "cells": [
  {
   "cell_type": "markdown",
   "id": "3c8d28b8",
   "metadata": {},
   "source": [
    "# Semana 06\n",
    "Julca Espillco Humberto"
   ]
  },
  {
   "cell_type": "markdown",
   "id": "2f0d8140",
   "metadata": {},
   "source": [
    "1. Coleccion de Datos"
   ]
  },
  {
   "cell_type": "code",
   "execution_count": 1,
   "id": "af0eca8e",
   "metadata": {},
   "outputs": [
    {
     "name": "stdout",
     "output_type": "stream",
     "text": [
      "['Yauricasa', 'Granados', 'Alva', 'Laura']\n"
     ]
    }
   ],
   "source": [
    "# 1.1 Listas\n",
    "# Es una coleccion de elementos que pueden ser ordenados, modificados, etc......\n",
    "# Se identifica por los corchetes\n",
    "# Ejemplo:\n",
    "aula = ['Yauricasa', 'Granados', 'Alva', 'Laura']\n",
    "print(aula)"
   ]
  },
  {
   "cell_type": "code",
   "execution_count": 2,
   "id": "721f7538",
   "metadata": {},
   "outputs": [
    {
     "data": {
      "text/plain": [
       "['Yauricasa', 'Granados', 'Alva', 'Laura']"
      ]
     },
     "execution_count": 2,
     "metadata": {},
     "output_type": "execute_result"
    }
   ],
   "source": [
    "aula"
   ]
  },
  {
   "cell_type": "code",
   "execution_count": 4,
   "id": "342df03e",
   "metadata": {},
   "outputs": [
    {
     "name": "stdout",
     "output_type": "stream",
     "text": [
      "Yauricasa\n",
      "Granados\n"
     ]
    }
   ],
   "source": [
    "#podemos extraer cada elemento por su posición\n",
    "print(aula[0])\n",
    "print(aula[1])"
   ]
  },
  {
   "cell_type": "code",
   "execution_count": 5,
   "id": "ec9979e5",
   "metadata": {},
   "outputs": [
    {
     "data": {
      "text/plain": [
       "'Chavez'"
      ]
     },
     "execution_count": 5,
     "metadata": {},
     "output_type": "execute_result"
    }
   ],
   "source": [
    "#puedo asignar un valor a una posición de la lista.\n",
    "aula[1] = 'Chavez'\n",
    "aula[1]"
   ]
  },
  {
   "cell_type": "code",
   "execution_count": 6,
   "id": "44673b42",
   "metadata": {},
   "outputs": [
    {
     "data": {
      "text/plain": [
       "['Yauricasa', 'Chavez', 'Alva', 'Laura']"
      ]
     },
     "execution_count": 6,
     "metadata": {},
     "output_type": "execute_result"
    }
   ],
   "source": [
    "#Mostramos como quedo la lista\n",
    "aula"
   ]
  },
  {
   "cell_type": "code",
   "execution_count": 32,
   "id": "687e0e45",
   "metadata": {},
   "outputs": [],
   "source": [
    "#para agregar un elemento utilizamos append\n",
    "aula.append('Huaman')\n",
    "aula.append(\"Huancas\")\n",
    "aula.append('Chavez')\n",
    "aula.append('Serna')"
   ]
  },
  {
   "cell_type": "code",
   "execution_count": 38,
   "id": "1fe22e23",
   "metadata": {},
   "outputs": [
    {
     "data": {
      "text/plain": [
       "['Laura', 'Julca', 'Huaman', 'Huancas', 'Chavez', 'Serna']"
      ]
     },
     "execution_count": 38,
     "metadata": {},
     "output_type": "execute_result"
    }
   ],
   "source": [
    "aula"
   ]
  },
  {
   "cell_type": "code",
   "execution_count": 28,
   "id": "c43749ac",
   "metadata": {},
   "outputs": [],
   "source": [
    "#para eliminar elementos utilizamos remove[]\n",
    "aula.remove('Huaman')\n",
    "aula.remove('Huaman')\n",
    "aula.remove('Huancas')"
   ]
  },
  {
   "cell_type": "code",
   "execution_count": 39,
   "id": "81850527",
   "metadata": {},
   "outputs": [
    {
     "data": {
      "text/plain": [
       "['Laura', 'Julca', 'Huaman', 'Huancas', 'Chavez', 'Serna']"
      ]
     },
     "execution_count": 39,
     "metadata": {},
     "output_type": "execute_result"
    }
   ],
   "source": [
    "aula"
   ]
  },
  {
   "cell_type": "code",
   "execution_count": 37,
   "id": "94913afd",
   "metadata": {},
   "outputs": [
    {
     "data": {
      "text/plain": [
       "['Laura', 'Julca', 'Huaman', 'Huancas', 'Chavez', 'Serna']"
      ]
     },
     "execution_count": 37,
     "metadata": {},
     "output_type": "execute_result"
    }
   ],
   "source": [
    "#si hubiera varios elementos de valores iguales se elimina la primera coincidencia\n",
    "aula.remove(\"Huancas\")\n",
    "aula"
   ]
  },
  {
   "cell_type": "code",
   "execution_count": 43,
   "id": "35a781ab",
   "metadata": {},
   "outputs": [
    {
     "data": {
      "text/plain": [
       "5"
      ]
     },
     "execution_count": 43,
     "metadata": {},
     "output_type": "execute_result"
    }
   ],
   "source": [
    "# Para obtener el tamaño utilizamos len()\n",
    "len(aula)"
   ]
  },
  {
   "cell_type": "code",
   "execution_count": 44,
   "id": "8b26d805",
   "metadata": {},
   "outputs": [
    {
     "data": {
      "text/plain": [
       "'Huaman'"
      ]
     },
     "execution_count": 44,
     "metadata": {},
     "output_type": "execute_result"
    }
   ],
   "source": [
    "#Eliminar por indice\n",
    "aula.pop(2)"
   ]
  },
  {
   "cell_type": "code",
   "execution_count": 45,
   "id": "27ac62d6",
   "metadata": {},
   "outputs": [
    {
     "data": {
      "text/plain": [
       "['Laura', 'Julca', 'Huancas', 'Chavez']"
      ]
     },
     "execution_count": 45,
     "metadata": {},
     "output_type": "execute_result"
    }
   ],
   "source": [
    "aula"
   ]
  },
  {
   "cell_type": "code",
   "execution_count": 46,
   "id": "feda32b1",
   "metadata": {},
   "outputs": [
    {
     "data": {
      "text/plain": [
       "['Laura', 'Julca', 'Huancas']"
      ]
     },
     "execution_count": 46,
     "metadata": {},
     "output_type": "execute_result"
    }
   ],
   "source": [
    "#Elimina la ultima posicion de la lista\n",
    "aula.pop()\n",
    "aula"
   ]
  },
  {
   "cell_type": "code",
   "execution_count": 47,
   "id": "12f54e9a",
   "metadata": {},
   "outputs": [
    {
     "name": "stdout",
     "output_type": "stream",
     "text": [
      "Laura\n",
      "Julca\n",
      "Huancas\n"
     ]
    }
   ],
   "source": [
    "for alumno in aula:\n",
    "    print(alumno)"
   ]
  },
  {
   "cell_type": "code",
   "execution_count": 48,
   "id": "8687de4f",
   "metadata": {},
   "outputs": [
    {
     "data": {
      "text/plain": [
       "['Laura', 'Julca', 'Huancas', 'Vilva', 'Gavino']"
      ]
     },
     "execution_count": 48,
     "metadata": {},
     "output_type": "execute_result"
    }
   ],
   "source": [
    "aula.append('Vilva')\n",
    "aula.append('Gavino')\n",
    "aula"
   ]
  },
  {
   "cell_type": "code",
   "execution_count": 50,
   "id": "aeb7e112",
   "metadata": {},
   "outputs": [
    {
     "name": "stdout",
     "output_type": "stream",
     "text": [
      "Laura\n",
      "Julca\n",
      "Huancas\n",
      "Vilva\n",
      "Gavino\n"
     ]
    }
   ],
   "source": [
    "for alumno in aula:\n",
    "    print(alumno)"
   ]
  },
  {
   "cell_type": "code",
   "execution_count": 51,
   "id": "d374c007",
   "metadata": {},
   "outputs": [
    {
     "data": {
      "text/plain": [
       "['Gavino', 'Vilva', 'Huancas', 'Julca', 'Laura']"
      ]
     },
     "execution_count": 51,
     "metadata": {},
     "output_type": "execute_result"
    }
   ],
   "source": [
    "#para invertir la lista utilizamos reverse()\n",
    "#invertir no significa ordena de forma descendente\n",
    "aula.reverse()\n",
    "aula"
   ]
  },
  {
   "cell_type": "code",
   "execution_count": 52,
   "id": "17fda4f8",
   "metadata": {},
   "outputs": [
    {
     "data": {
      "text/plain": [
       "['Gavino', 'Huancas', 'Julca', 'Laura', 'Vilva']"
      ]
     },
     "execution_count": 52,
     "metadata": {},
     "output_type": "execute_result"
    }
   ],
   "source": [
    "# Para ordenar unalista utilizamos sort()\n",
    "aula.sort()\n",
    "aula"
   ]
  },
  {
   "cell_type": "code",
   "execution_count": 53,
   "id": "20320068",
   "metadata": {},
   "outputs": [
    {
     "data": {
      "text/plain": [
       "('Granados', 'Julca', 'Cusi', 'Marcos')"
      ]
     },
     "execution_count": 53,
     "metadata": {},
     "output_type": "execute_result"
    }
   ],
   "source": [
    "# 1.2 Tuplas\n",
    "# Es una coleccion de elementos ordenada(Ordenadado significa que tiene un indice) que no se pueden modificar, es INALTERABLE.\n",
    "# NO SE PUEDEN AGREGAR ELEMENTOS NI ELIMINAR\n",
    "# SE IDENTIFICAN POR LOS PARENTESIS\n",
    "tupla_aula = ('Granados', 'Julca', 'Cusi', 'Marcos')\n",
    "tupla_aula"
   ]
  },
  {
   "cell_type": "code",
   "execution_count": 54,
   "id": "e3b55660",
   "metadata": {},
   "outputs": [
    {
     "name": "stdout",
     "output_type": "stream",
     "text": [
      "Granados\n",
      "Julca\n",
      "Cusi\n",
      "Marcos\n"
     ]
    }
   ],
   "source": [
    "# Se puede recorrer con una estructura repetitiva\n",
    "# Por ejemeplo for:\n",
    "for alumno in tupla_aula:\n",
    "    print(alumno)"
   ]
  },
  {
   "cell_type": "code",
   "execution_count": 55,
   "id": "61e3d315",
   "metadata": {},
   "outputs": [
    {
     "data": {
      "text/plain": [
       "'Cusi'"
      ]
     },
     "execution_count": 55,
     "metadata": {},
     "output_type": "execute_result"
    }
   ],
   "source": [
    "# Se puede extraer elementos por su posicion\n",
    "tupla_aula[2]"
   ]
  },
  {
   "cell_type": "code",
   "execution_count": 56,
   "id": "f8d87053",
   "metadata": {},
   "outputs": [
    {
     "data": {
      "text/plain": [
       "4"
      ]
     },
     "execution_count": 56,
     "metadata": {},
     "output_type": "execute_result"
    }
   ],
   "source": [
    "len(tupla_aula)"
   ]
  },
  {
   "cell_type": "code",
   "execution_count": 57,
   "id": "4662cd92",
   "metadata": {},
   "outputs": [
    {
     "data": {
      "text/plain": [
       "{'Cusi', 'Granados', 'Julca', 'Marcos'}"
      ]
     },
     "execution_count": 57,
     "metadata": {},
     "output_type": "execute_result"
    }
   ],
   "source": [
    "# 1.3 conjuntos\n",
    "# Es una coleccion de elementos que no estan ordenados(Significa que no tiene indice)\n",
    "conjunto_aula = {'Granados', 'Julca', 'Cusi', 'Marcos'}\n",
    "conjunto_aula"
   ]
  },
  {
   "cell_type": "code",
   "execution_count": 60,
   "id": "3f7a0d5e",
   "metadata": {},
   "outputs": [
    {
     "name": "stdout",
     "output_type": "stream",
     "text": [
      "Julca\n",
      "Marcos\n",
      "Cusi\n",
      "Granados\n"
     ]
    }
   ],
   "source": [
    "# Se puede recorrer con una estructura repetitiva\n",
    "# Por ejemeplo for:\n",
    "for alumno in conjunto_aula:\n",
    "    print(alumno)"
   ]
  },
  {
   "cell_type": "code",
   "execution_count": 61,
   "id": "e54be624",
   "metadata": {},
   "outputs": [],
   "source": [
    "# OBSERVACION: No se puede acceder por posicion porque no considera indexacion.\n",
    "# Ejemplo:\n",
    "# conjunto_aula[2] devolvera un mensaje de error"
   ]
  },
  {
   "cell_type": "code",
   "execution_count": 63,
   "id": "6228a6db",
   "metadata": {},
   "outputs": [
    {
     "data": {
      "text/plain": [
       "4"
      ]
     },
     "execution_count": 63,
     "metadata": {},
     "output_type": "execute_result"
    }
   ],
   "source": [
    "len(conjunto_aula)"
   ]
  },
  {
   "cell_type": "code",
   "execution_count": 64,
   "id": "96f40125",
   "metadata": {},
   "outputs": [
    {
     "data": {
      "text/plain": [
       "{'Cusi', 'Granados', 'Julca', 'Marcos', 'Mota'}"
      ]
     },
     "execution_count": 64,
     "metadata": {},
     "output_type": "execute_result"
    }
   ],
   "source": [
    "# para agregar utilizamos la funcion add()\n",
    "conjunto_aula.add(\"Mota\")\n",
    "conjunto_aula"
   ]
  },
  {
   "cell_type": "code",
   "execution_count": 65,
   "id": "0ea0cf2b",
   "metadata": {},
   "outputs": [
    {
     "data": {
      "text/plain": [
       "{'Cusi', 'Julca', 'Marcos', 'Mota'}"
      ]
     },
     "execution_count": 65,
     "metadata": {},
     "output_type": "execute_result"
    }
   ],
   "source": [
    "conjunto_aula.remove(\"Granados\")\n",
    "conjunto_aula"
   ]
  },
  {
   "cell_type": "code",
   "execution_count": 67,
   "id": "53a2fd9b",
   "metadata": {},
   "outputs": [
    {
     "data": {
      "text/plain": [
       "{2: 'Cusi', '1': 'Julca', 'dos': 'Gomez', '0': 'Mota'}"
      ]
     },
     "execution_count": 67,
     "metadata": {},
     "output_type": "execute_result"
    }
   ],
   "source": [
    "# 1.4 Diccionarios\n",
    "# Es una coleccion de elementos, que estan indexados, no estan ordenados y se pueden modificar \n",
    "# son escritos entre llaves y estan formados por pares de elementos\n",
    "# INDICE: valor\n",
    "\n",
    "diccionario_aula = {2:'Cusi', '1':'Julca', 'dos':'Gomez', '0':'Mota'}\n",
    "diccionario_aula"
   ]
  },
  {
   "cell_type": "code",
   "execution_count": 68,
   "id": "962624d8",
   "metadata": {},
   "outputs": [
    {
     "data": {
      "text/plain": [
       "'Mota'"
      ]
     },
     "execution_count": 68,
     "metadata": {},
     "output_type": "execute_result"
    }
   ],
   "source": [
    "# Del diccionario: diccionario_aula estraer el valor cuyo indice sea cero en String:\n",
    "diccionario_aula['0']"
   ]
  },
  {
   "cell_type": "code",
   "execution_count": 69,
   "id": "0fabfdde",
   "metadata": {},
   "outputs": [
    {
     "data": {
      "text/plain": [
       "'Cusi'"
      ]
     },
     "execution_count": 69,
     "metadata": {},
     "output_type": "execute_result"
    }
   ],
   "source": [
    "diccionario_aula[2]"
   ]
  },
  {
   "cell_type": "code",
   "execution_count": 70,
   "id": "95d94962",
   "metadata": {},
   "outputs": [
    {
     "data": {
      "text/plain": [
       "'Gomez'"
      ]
     },
     "execution_count": 70,
     "metadata": {},
     "output_type": "execute_result"
    }
   ],
   "source": [
    "diccionario_aula[\"dos\"]"
   ]
  },
  {
   "cell_type": "code",
   "execution_count": 71,
   "id": "90aa03c0",
   "metadata": {},
   "outputs": [
    {
     "data": {
      "text/plain": [
       "{2: 'Cusi', '1': 'Julca', 'dos': 'Gomez', '0': 'Mota', '20': 'Serna'}"
      ]
     },
     "execution_count": 71,
     "metadata": {},
     "output_type": "execute_result"
    }
   ],
   "source": [
    "# Agregar elemento al diccionario\n",
    "diccionario_aula['20'] = \"Serna\"\n",
    "diccionario_aula"
   ]
  },
  {
   "cell_type": "code",
   "execution_count": 72,
   "id": "6a540dff",
   "metadata": {},
   "outputs": [
    {
     "data": {
      "text/plain": [
       "{'1': 'Julca', 'dos': 'Gomez', '0': 'Mota', '20': 'Serna'}"
      ]
     },
     "execution_count": 72,
     "metadata": {},
     "output_type": "execute_result"
    }
   ],
   "source": [
    "# Eliminar elementos del diccionario\n",
    "diccionario_aula.pop(2)\n",
    "diccionario_aula"
   ]
  },
  {
   "cell_type": "code",
   "execution_count": 75,
   "id": "03cfc67b",
   "metadata": {},
   "outputs": [
    {
     "data": {
      "text/plain": [
       "{'1': 'Julca', '0': 'Mota', '20': 'Serna'}"
      ]
     },
     "execution_count": 75,
     "metadata": {},
     "output_type": "execute_result"
    }
   ],
   "source": [
    "# Tambien se puede eliminar utilizamos de()\n",
    "del (diccionario_aula[\"dos\"])\n",
    "diccionario_aula"
   ]
  },
  {
   "cell_type": "code",
   "execution_count": 76,
   "id": "887641fa",
   "metadata": {},
   "outputs": [
    {
     "name": "stdout",
     "output_type": "stream",
     "text": [
      "1\n",
      "0\n",
      "20\n"
     ]
    }
   ],
   "source": [
    "# para recorrer todos \n",
    "for indice in diccionario_aula:\n",
    "    print(indice)"
   ]
  },
  {
   "cell_type": "code",
   "execution_count": 77,
   "id": "749b119d",
   "metadata": {},
   "outputs": [
    {
     "name": "stdout",
     "output_type": "stream",
     "text": [
      "1 Julca\n",
      "0 Mota\n",
      "20 Serna\n"
     ]
    }
   ],
   "source": [
    "# Para obtener el indice y el valor de cada elemento utilizamos items()\n",
    "for indice, valor in diccionario_aula.items():\n",
    "    print(indice, valor)"
   ]
  },
  {
   "cell_type": "code",
   "execution_count": 78,
   "id": "ba0d4410",
   "metadata": {},
   "outputs": [],
   "source": [
    "# 1.5 Ejercicio:\n",
    "# Dado una lista de [ALANYA, ALVA, AZAÑERO, CARRASCO, CCACCYA, COSME, CUSI, DIAZ, FLORES, GOMEZ, GOMEZ,\n",
    "# GRANADOS, HUANCAS, JULCA, LAURA, MOTTA, PINEDO, PONCE, QUINTANA,RODRIGUEZ, SERNA, VILCA, YAURICASA]\n",
    "# Diseñar un código que muestre si el apellido de un estudiante(ingreso por teclado forma parte de la lista)\n",
    "# Tiempo: 12 minutos"
   ]
  },
  {
   "cell_type": "code",
   "execution_count": 80,
   "id": "91b69785",
   "metadata": {},
   "outputs": [],
   "source": [
    "# TAREA EN CLASE\n",
    "alumnos = [\"ALANYA\" ,\"ALVA\",\"AZAÑERO\" ,\"CARRASCO\" ,\"CCACCYA\" ,\"COSME\" ,\"CUSI\" ,\"DIAZ\" ,\"FLORES\" ,\"GOMEZ\" ,\"GOMEZ\" ,\"GRANADOS\" \n",
    ",\"HUANCAS\",\"JULCA\" ,\"LAURA\" ,\"MOTTA\" ,\"PINEDO\" ,\"PONCE\" ,\"QUINTANA\",\"RODRIGUEZ\" ,\"SERNA\" ,\"VILCA\" ,\"YAURICASA\"]"
   ]
  },
  {
   "cell_type": "code",
   "execution_count": 83,
   "id": "ac334806",
   "metadata": {},
   "outputs": [
    {
     "name": "stdout",
     "output_type": "stream",
     "text": [
      "Ingresa un apellido: Vilca\n",
      "Nombre encontrado\n"
     ]
    }
   ],
   "source": [
    "apellido = input(\"Ingresa un apellido: \")\n",
    "mal = False\n",
    "for alumno in alumnos: \n",
    "    alumno = alumno.capitalize()\n",
    "    alumno = apellido.capitalize()\n",
    "    if apellido == alumno:\n",
    "        print(\"Nombre encontrado\")\n",
    "        mal = True\n",
    "        break\n",
    "        \n",
    "        \n",
    "if bandera == False:\n",
    "    print(\"Nombre no encontrado\")"
   ]
  },
  {
   "cell_type": "code",
   "execution_count": null,
   "id": "f70648a5",
   "metadata": {},
   "outputs": [],
   "source": []
  }
 ],
 "metadata": {
  "kernelspec": {
   "display_name": "Python 3 (ipykernel)",
   "language": "python",
   "name": "python3"
  },
  "language_info": {
   "codemirror_mode": {
    "name": "ipython",
    "version": 3
   },
   "file_extension": ".py",
   "mimetype": "text/x-python",
   "name": "python",
   "nbconvert_exporter": "python",
   "pygments_lexer": "ipython3",
   "version": "3.9.7"
  }
 },
 "nbformat": 4,
 "nbformat_minor": 5
}
